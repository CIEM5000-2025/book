{
 "cells": [
  {
   "cell_type": "code",
   "execution_count": 1,
   "metadata": {},
   "outputs": [],
   "source": [
    "import sympy as sym\n",
    "sym.init_printing()"
   ]
  },
  {
   "cell_type": "code",
   "execution_count": 7,
   "metadata": {},
   "outputs": [
    {
     "data": {
      "image/png": "[encoded data removed]",
      "text/latex": [
       "$\\displaystyle EA \\frac{d^{2}}{d x^{2}} w{\\left(x \\right)} = - q_{x}$"
      ],
      "text/plain": [
       "     2            \n",
       "    d             \n",
       "EA⋅───(w(x)) = -qₓ\n",
       "     2            \n",
       "   dx             "
      ]
     },
     "metadata": {},
     "output_type": "display_data"
    }
   ],
   "source": [
    "EA, q_x, x, L = sym.symbols('EA, q_x, x, L')\n",
    "w = sym.Function('w')\n",
    "\n",
    "ODE = sym.Eq(w(x).diff(x, 2) *EA, -q_x)\n",
    "display(ODE)"
   ]
  },
  {
   "cell_type": "code",
   "execution_count": 8,
   "metadata": {},
   "outputs": [
    {
     "data": {
      "image/png": "[encoded data removed]",
      "text/latex": [
       "$\\displaystyle C_{1} + C_{2} x - \\frac{q_{x} x^{2}}{2 EA}$"
      ],
      "text/plain": [
       "                2\n",
       "            qₓ⋅x \n",
       "C₁ + C₂⋅x - ─────\n",
       "             2⋅EA"
      ]
     },
     "metadata": {},
     "output_type": "display_data"
    }
   ],
   "source": [
    "w = sym.dsolve(ODE, w(x)).rhs\n",
    "display(w)"
   ]
  },
  {
   "cell_type": "code",
   "execution_count": 9,
   "metadata": {},
   "outputs": [
    {
     "data": {
      "image/png": "[encoded data removed]",
      "text/latex": [
       "$\\displaystyle C_{1} = 0$"
      ],
      "text/plain": [
       "C₁ = 0"
      ]
     },
     "metadata": {},
     "output_type": "display_data"
    },
    {
     "data": {
      "image/png": "[encoded data removed]",
      "text/latex": [
       "$\\displaystyle C_{2} = \\frac{L q_{x}}{EA}$"
      ],
      "text/plain": [
       "     L⋅qₓ\n",
       "C₂ = ────\n",
       "      EA "
      ]
     },
     "metadata": {},
     "output_type": "display_data"
    }
   ],
   "source": [
    "eps = w.diff(x)\n",
    "N = EA * eps\n",
    "eq1 = sym.Eq(w.subs(x,0),0)\n",
    "eq2 = sym.Eq(N.subs(x,L),0)\n",
    "C_sol = sym.solve([eq1, eq2 ], sym.symbols('C1, C2'))\n",
    "# display each of the constants individually as math output\n",
    "for key in C_sol:\n",
    "    display(sym.Eq(key, C_sol[key]))"
   ]
  },
  {
   "cell_type": "code",
   "execution_count": 24,
   "metadata": {},
   "outputs": [
    {
     "data": {
      "image/png": "[encoded data removed]",
      "text/latex": [
       "$\\displaystyle \\frac{L_{2}^{2} q_{x}}{2 EA_{2}} + \\frac{L_{1}^{2} q_{x}}{2 EA_{1}}$"
      ],
      "text/plain": [
       "  2        2   \n",
       "L₂ ⋅qₓ   L₁ ⋅qₓ\n",
       "────── + ──────\n",
       "2⋅EA₂    2⋅EA₁ "
      ]
     },
     "metadata": {},
     "output_type": "display_data"
    }
   ],
   "source": [
    "EA_1, EA_2, L_1, L_2 = sym.symbols('EA_1, EA_2, L_1, L_2')\n",
    "w_3 = w.subs(C_sol).subs(EA,EA_1).subs(L,L_1).subs(x,L_1)+w.subs(C_sol).subs(EA,EA_2).subs(L,L_2).subs(x,L_2)\n",
    "display(w_3)"
   ]
  },
  {
   "cell_type": "code",
   "execution_count": 26,
   "metadata": {},
   "outputs": [
    {
     "data": {
      "image/png": "[encoded data removed]",
      "text/latex": [
       "$\\displaystyle \\frac{F L_{2}}{EA_{2}} + \\frac{L_{2}^{2} q_{x}}{2 EA_{2}} + \\frac{F L_{1}}{EA_{1}} + \\frac{L_{1}^{2} q_{x}}{2 EA_{1}}$"
      ],
      "text/plain": [
       "         2               2   \n",
       "F⋅L₂   L₂ ⋅qₓ   F⋅L₁   L₁ ⋅qₓ\n",
       "──── + ────── + ──── + ──────\n",
       "EA₂    2⋅EA₂    EA₁    2⋅EA₁ "
      ]
     },
     "metadata": {},
     "output_type": "display_data"
    }
   ],
   "source": [
    "F = sym.symbols('F')\n",
    "w_3 = w_3 + L_1 * F / EA_1 + L_2 * F / EA_2\n",
    "display(w_3)"
   ]
  },
  {
   "cell_type": "code",
   "execution_count": 30,
   "metadata": {},
   "outputs": [
    {
     "data": {
      "image/png": "[encoded data removed]",
      "text/latex": [
       "$\\displaystyle \\frac{L_{1} L_{2} q_{x} \\left(- EA_{1} L_{2}^{2} + EA_{2} L_{1}^{2}\\right)}{2 EA_{1} EA_{2} \\left(EA L_{2} + EA_{2} L_{1}\\right)}$"
      ],
      "text/plain": [
       "         ⎛        2         2⎞\n",
       "L₁⋅L₂⋅qₓ⋅⎝- EA₁⋅L₂  + EA₂⋅L₁ ⎠\n",
       "──────────────────────────────\n",
       "  2⋅EA₁⋅EA₂⋅(EA⋅L₂ + EA₂⋅L₁)  "
      ]
     },
     "execution_count": 30,
     "metadata": {},
     "output_type": "execute_result"
    }
   ],
   "source": [
    "((L_1**2 / EA_1 / 2 * q_x - L_2 **2 / EA_2 / 2 * q_x ) / (EA/L_1 +EA_2/L_2)).simplify()"
   ]
  },
  {
   "cell_type": "code",
   "execution_count": null,
   "metadata": {},
   "outputs": [],
   "source": []
  }
 ],
 "metadata": {
  "kernelspec": {
   "display_name": "base",
   "language": "python",
   "name": "python3"
  },
  "language_info": {
   "codemirror_mode": {
    "name": "ipython",
    "version": 3
   },
   "file_extension": ".py",
   "mimetype": "text/x-python",
   "name": "python",
   "nbconvert_exporter": "python",
   "pygments_lexer": "ipython3",
   "version": "3.9.18"
  }
 },
 "nbformat": 4,
 "nbformat_minor": 2
}
