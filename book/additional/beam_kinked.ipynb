{
 "cells": [
  {
   "cell_type": "markdown",
   "metadata": {},
   "source": [
    "# Kinked beam\n",
    "\n",
    "::::::{attention}\n",
    "This page shows a preview of the assignment. Please fork and clone the assignment to work on it locally from [GitHub](https://github.com/CIEM5000-2025/practice-assignments)\n",
    "::::::\n",
    "\n",
    "```{custom_download_link} ./beam_kinked_stripped.ipynb\n",
    ":text: \".ipynb\"\n",
    ":replace_default: \"True\"\n",
    "```\n",
    "\n",
    "```{custom_download_link} ./beam_kinked.md\n",
    ":text: \".md:myst\"\n",
    ":replace_default: \"False\"\n",
    "```\n",
    "\n",
    "```{custom_download_link} https://github.com/CIEM5000-2025/practice-assignments\n",
    ":text: \"All files practice assignments\"\n",
    ":replace_default: \"False\"\n",
    "```\n",
    "\n",
    "Given is the following beam {cite:p}`additional_Hans`:\n",
    "\n",
    "```{figure} https://raw.githubusercontent.com/ibcmrocha/public/main/newforce.png\n",
    ":align: center\n",
    ":width: 400\n",
    "```\n",
    "\n",
    "With:\n",
    "- $l_1 = 4$\n",
    "- $l_2 = 5$\n",
    "- $l_3 = 3$\n",
    "- $EI = 5000$\n",
    "- $EA = 15000$\n",
    "- $q = 6$\n",
    "- $F = 40$\n",
    "\n",
    "```{exercise-start}\n",
    ":label: exercise_beam_kinked\n",
    ":nonumber: true\n",
    "```\n",
    "\n",
    "Solve this problem."
   ]
  },
  {
   "cell_type": "code",
   "execution_count": null,
   "metadata": {
    "tags": [
     "thebe-remove-input-init"
    ]
   },
   "outputs": [],
   "source": [
    "import matplotlib as plt\n",
    "import numpy as np\n",
    "sys.path.insert(1, '/matrixmethod_solution')\n",
    "import matrixmethod_solution as mm\n",
    "%config InlineBackend.figure_formats = ['svg']"
   ]
  },
  {
   "cell_type": "code",
   "execution_count": null,
   "id": "4aa75a53",
   "metadata": {
    "tags": [
     "remove-cell"
    ]
   },
   "outputs": [],
   "source": [
    "import matplotlib as plt\n",
    "import numpy as np\n",
    "import matrixmethod_solution as mm\n",
    "%config InlineBackend.figure_formats = ['svg']"
   ]
  },
  {
   "cell_type": "code",
   "execution_count": null,
   "id": "ef50c25e",
   "metadata": {
    "tags": [
     "disable-execution-cell"
    ]
   },
   "outputs": [],
   "source": [
    "import numpy as np\n",
    "import matplotlib as plt\n",
    "import matrixmethod as mm\n",
    "%config InlineBackend.figure_formats = ['svg']"
   ]
  },
  {
   "cell_type": "code",
   "execution_count": null,
   "id": "d55c19e8",
   "metadata": {},
   "outputs": [],
   "source": [
    "#YOUR_CODE_HERE"
   ]
  },
  {
   "cell_type": "markdown",
   "id": "83356ed8",
   "metadata": {},
   "source": [
    "```{exercise-end}\n",
    "```\n",
    "\n",
    "```{solution-start} exercise_beam_kinked\n",
    ":class: dropdown\n",
    "```\n",
    "\n",
    "- This problem could be solved without any additional coding by adding an additional node at the points load halfway beam (2)\n",
    "- Another options is to add an element with a concentrated load at midspan. This option is chosen here."
   ]
  },
  {
   "cell_type": "code",
   "execution_count": null,
   "id": "5c2e0242",
   "metadata": {
    "tags": [
     "thebe-init"
    ]
   },
   "outputs": [],
   "source": [
    "import sympy as sym\n",
    "sym.init_printing()"
   ]
  },
  {
   "cell_type": "code",
   "execution_count": null,
   "id": "a1e64cfb",
   "metadata": {
    "tags": [
     "thebe-init"
    ]
   },
   "outputs": [],
   "source": [
    "EI, F, x = sym.symbols('EI, F, x')\n",
    "L = sym.symbols('L',positive=True)\n",
    "w = sym.Function('w')\n",
    "\n",
    "ODE_bending = sym.Eq(w(x).diff(x, 4) *EI, F*sym.SingularityFunction(x, L/2, -1))\n",
    "display(ODE_bending)\n",
    "\n",
    "V = - sym.integrate(ODE_bending.rhs, x) + sym.symbols('C1')\n",
    "M = sym.integrate(V, x) + sym.symbols('C2')\n",
    "kappa = M / EI\n",
    "phi = sym.integrate(kappa, x) + sym.symbols('C3')\n",
    "w = -sym.integrate(phi, x) + sym.symbols('C4')\n",
    "display(w)\n",
    "\n",
    "w_1, w_2, phi_1, phi_2 = sym.symbols('w_1, w_2, phi_1, phi_2')\n",
    "phi = -w.diff(x)\n",
    "eq1 = sym.Eq(w.subs(x,0),w_1)\n",
    "eq2 = sym.Eq(w.subs(x,L),w_2)\n",
    "eq3 = sym.Eq(phi.subs(x,0),phi_1)\n",
    "eq4 = sym.Eq(phi.subs(x,L),phi_2)\n",
    "C_sol = sym.solve([eq1, eq2, eq3, eq4 ], sym.symbols('C1, C2, C3, C4'))\n",
    "display(C_sol)\n",
    "\n",
    "display(sym.collect(M.subs(C_sol).expand(),[w_1,w_2,phi_1,phi_2, F]))\n",
    "display(sym.collect(w.subs(C_sol).expand(),[w_1,w_2,phi_1,phi_2, F]))\n",
    "\n",
    "F_1_z, F_2_z, T_1_y, T_2_y = sym.symbols('F_1_z, F_2_z, T_1_y, T_2_y')\n",
    "\n",
    "eq5 = sym.Eq(-V.subs(C_sol).subs(x,0), F_1_z)\n",
    "eq6 = sym.Eq(V.subs(C_sol).subs(x,L), F_2_z)\n",
    "eq7 = sym.Eq(-M.subs(C_sol).subs(x,0), T_1_y)\n",
    "eq8 = sym.Eq(M.subs(C_sol).subs(x,L), T_2_y)\n",
    "display(eq5, eq6, eq7, eq8)\n",
    "\n",
    "A, b = sym.linear_eq_to_matrix([eq5,eq7, eq6, eq8], [w_1, phi_1, w_2, phi_2])\n",
    "display(A,b)"
   ]
  },
  {
   "cell_type": "markdown",
   "id": "e42b9d8e",
   "metadata": {},
   "source": [
    "- So, the load vector is: $\\left[\\begin{matrix}\\frac{F}{2}\\\\- \\frac{F L}{8}\\\\\\frac{F}{2}\\\\\\frac{F L}{8}\\end{matrix}\\right]$\n",
    "- The new expression for M is: $- \\frac{F L}{8} + \\frac{F x}{2} - F \\left(\\begin{cases} - \\frac{L}{2} + x & \\text{for}\\: x > \\frac{L}{2} \\\\0 & \\text{otherwise} \\end{cases}\\right) + \\phi_{1} \\left(- \\frac{4 EI}{L} + \\frac{6 EI x}{L^{2}}\\right) + \\phi_{2} \\left(- \\frac{2 EI}{L} + \\frac{6 EI x}{L^{2}}\\right) + w_{1} \\cdot \\left(\\frac{6 EI}{L^{2}} - \\frac{12 EI x}{L^{3}}\\right) + w_{2} \\left(- \\frac{6 EI}{L^{2}} + \\frac{12 EI x}{L^{3}}\\right)$\n",
    "- The new expression for w is: $\\phi_{1} \\left(- x + \\frac{2 x^{2}}{L} - \\frac{x^{3}}{L^{2}}\\right) + \\phi_{2} \\left(\\frac{x^{2}}{L} - \\frac{x^{3}}{L^{2}}\\right) + w_{1} \\cdot \\left(1 - \\frac{3 x^{2}}{L^{2}} + \\frac{2 x^{3}}{L^{3}}\\right) + w_{2} \\cdot \\left(\\frac{3 x^{2}}{L^{2}} - \\frac{2 x^{3}}{L^{3}}\\right) + \\frac{F L x^{2}}{16 EI} - \\frac{F x^{3}}{12 EI} + \\frac{F \\left(\\begin{cases} \\left(- \\frac{L}{2} + x\\right)^{3} & \\text{for}\\: x > \\frac{L}{2} \\\\0 & \\text{otherwise} \\end{cases}\\right)}{6 EI}$\n",
    "- These changes have been implemented in the `EB_point_load_element` class in [`./matrixmethod/elements.py`](exercise_beam_kinked_py)."
   ]
  },
  {
   "cell_type": "code",
   "execution_count": null,
   "id": "065d352c",
   "metadata": {
    "tags": [
     "thebe-init"
    ]
   },
   "outputs": [],
   "source": [
    "mm.Node.clear()\n",
    "mm.Element.clear()\n",
    "\n",
    "l1 = 4\n",
    "l2 = 5\n",
    "l3 = 3\n",
    "EI = 5000\n",
    "q = 6\n",
    "F = 40\n",
    "EA = 15000\n",
    "\n",
    "nodes = []\n",
    "\n",
    "nodes.append(mm.Node(0,0))\n",
    "nodes.append(mm.Node(l1,-l3))\n",
    "nodes.append(mm.Node(l1+l2,-l3))\n",
    "\n",
    "elems = []\n",
    "\n",
    "elems.append(mm.Element(nodes[0], nodes[1]))\n",
    "elems.append(mm.EB_point_load_element(nodes[1], nodes[2]))\n",
    "\n",
    "section = {}\n",
    "section['EI'] = EI\n",
    "section['EA'] = EA\n",
    "elems[0].set_section (section)\n",
    "elems[1].set_section (section)\n",
    "\n",
    "elems[0].add_distributed_load([0,q])\n",
    "elems[1].add_point_load_halfway(F)\n",
    "\n",
    "con = mm.Constrainer()\n",
    "\n",
    "con.fix_node (nodes[0])\n",
    "con.fix_dof (nodes[2], 0)\n",
    "con.fix_dof (nodes[2], 1)\n",
    "\n",
    "nodes[1].add_load ([0,F,0])\n",
    "\n",
    "print(con)\n",
    "for elem in elems:\n",
    "    print(elem)\n",
    "\n",
    "global_k = np.zeros ((3*len(nodes), 3*len(nodes)))\n",
    "global_f = np.zeros (3*len(nodes))\n",
    "\n",
    "for e in elems:\n",
    "    elmat = e.stiffness()\n",
    "    idofs = e.global_dofs()\n",
    "    \n",
    "    global_k[np.ix_(idofs,idofs)] += elmat\n",
    "\n",
    "for n in nodes:\n",
    "    global_f[n.dofs] += n.p\n",
    "\n",
    "Kff, Ff = con.constrain ( global_k, global_f )\n",
    "u = np.matmul ( np.linalg.inv(Kff), Ff )\n",
    "print(u)\n",
    "\n",
    "print(con.support_reactions(global_k,u,global_f))"
   ]
  },
  {
   "cell_type": "code",
   "execution_count": null,
   "id": "5e11f96a",
   "metadata": {
    "tags": [
     "thebe-init"
    ]
   },
   "outputs": [],
   "source": [
    "for elem in elems:\n",
    "    u_elem = con.full_disp(u)[elem.global_dofs()]\n",
    "    elem.plot_displaced(u_elem,num_points=51,global_c=True,scale=20)"
   ]
  },
  {
   "cell_type": "code",
   "execution_count": null,
   "id": "db959943",
   "metadata": {
    "tags": [
     "thebe-init"
    ]
   },
   "outputs": [],
   "source": [
    "for elem in elems:\n",
    "    u_elem = con.full_disp(u)[elem.global_dofs()]\n",
    "    elem.plot_moment_diagram(u_elem,num_points=51,global_c=True,scale=0.05)"
   ]
  },
  {
   "cell_type": "markdown",
   "id": "001578f2",
   "metadata": {},
   "source": [
    "```{solution-end}\n",
    "```"
   ]
  }
 ],
 "metadata": {
  "language_info": {
   "name": "python"
  }
 },
 "nbformat": 4,
 "nbformat_minor": 2
}
