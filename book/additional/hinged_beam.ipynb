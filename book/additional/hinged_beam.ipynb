{
 "cells": [
  {
   "cell_type": "markdown",
   "metadata": {},
   "source": [
    "# Hinged beam\n",
    "\n",
    "::::::{attention}\n",
    "This page shows a preview of the assignment. Please fork and clone the assignment to work on it locally from [GitHub](https://github.com/CIEM5000-2025/practice-assignments)\n",
    "::::::\n",
    "\n",
    "```{custom_download_link} ./hinged_beam_stripped.ipynb\n",
    ":text: \".ipynb\"\n",
    ":replace_default: \"True\"\n",
    "```\n",
    "\n",
    "```{custom_download_link} ./hinged_beam.md\n",
    ":text: \".md:myst\"\n",
    ":replace_default: \"False\"\n",
    "```\n",
    "\n",
    "```{custom_download_link} https://github.com/CIEM5000-2025/practice-assignments\n",
    ":text: \"All files practice assignments\"\n",
    ":replace_default: \"False\"\n",
    "```\n",
    "\n",
    "Given is the following beam {cite:p}`additional_Hans`:\n",
    "\n",
    "```{figure} https://raw.githubusercontent.com/ibcmrocha/public/main/hingedbeam.png\n",
    ":align: center\n",
    ":width: 400\n",
    "```\n",
    "\n",
    "With:\n",
    "- $EI = 8000$\n",
    "\n",
    "\n",
    "```{exercise-start}\n",
    ":label: exercise_hinged_beam\n",
    ":nonumber: true\n",
    "```\n",
    "\n",
    "Solve this problem. How do you deal with the hinges?"
   ]
  },
  {
   "cell_type": "code",
   "execution_count": null,
   "metadata": {
    "tags": [
     "thebe-remove-input-init"
    ]
   },
   "outputs": [],
   "source": [
    "import matplotlib as plt\n",
    "import numpy as np\n",
    "sys.path.insert(1, '/matrixmethod_solution')\n",
    "import matrixmethod_solution as mm\n",
    "%config InlineBackend.figure_formats = ['svg']"
   ]
  },
  {
   "cell_type": "code",
   "execution_count": null,
   "id": "4aa75a53",
   "metadata": {
    "tags": [
     "remove-cell"
    ]
   },
   "outputs": [],
   "source": [
    "import matplotlib as plt\n",
    "import numpy as np\n",
    "import matrixmethod_solution as mm\n",
    "%config InlineBackend.figure_formats = ['svg']"
   ]
  },
  {
   "cell_type": "code",
   "execution_count": null,
   "id": "ef50c25e",
   "metadata": {
    "tags": [
     "disable-execution-cell"
    ]
   },
   "outputs": [],
   "source": [
    "import numpy as np\n",
    "import matplotlib as plt\n",
    "import matrixmethod as mm\n",
    "%config InlineBackend.figure_formats = ['svg']"
   ]
  },
  {
   "cell_type": "code",
   "execution_count": null,
   "id": "d55c19e8",
   "metadata": {},
   "outputs": [],
   "source": [
    "#YOUR_CODE_HERE"
   ]
  },
  {
   "cell_type": "markdown",
   "id": "83356ed8",
   "metadata": {},
   "source": [
    "```{exercise-end}\n",
    "```"
   ]
  }
 ],
 "metadata": {
  "language_info": {
   "name": "python"
  }
 },
 "nbformat": 4,
 "nbformat_minor": 2
}
