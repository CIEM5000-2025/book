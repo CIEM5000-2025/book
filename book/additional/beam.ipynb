{
 "cells": [
  {
   "cell_type": "markdown",
   "metadata": {},
   "source": [
    "# Beam\n",
    "\n",
    "::::::{attention}\n",
    "This page shows a preview of the assignment. Please fork and clone the assignment to work on it locally from [GitHub](https://github.com/CIEM5000-2025/practice-assignments)\n",
    "\n",
    "After the second workshop, the solution will be added to this preview and to the [GitHub-repository](https://github.com/CIEM5000-2025/practice-assignments)\n",
    "::::::\n",
    "\n",
    "```{custom_download_link} ./beam_stripped.ipynb\n",
    ":text: \".ipynb\"\n",
    ":replace_default: \"True\"\n",
    "```\n",
    "\n",
    "```{custom_download_link} ./beam.md\n",
    ":text: \".md:myst\"\n",
    ":replace_default: \"False\"\n",
    "```\n",
    "\n",
    "```{custom_download_link} https://github.com/CIEM5000-2025/practice-assignments\n",
    ":text: \"All files practice assignments\"\n",
    ":replace_default: \"False\"\n",
    "```\n",
    "\n",
    "Given is the following beam:\n",
    "\n",
    "```{figure} https://raw.githubusercontent.com/ibcmrocha/public/main/beam.png\n",
    ":align: center\n",
    ":width: 400\n",
    "```\n",
    "\n",
    "With:\n",
    "- $l_1 = 5.5$\n",
    "- $l_2 = 5.0$\n",
    "- $EI_1 = 5000$\n",
    "- $EI_2 = 8000$\n",
    "- $q = 6$\n",
    "- $F = 40$\n",
    "- $T = 50$\n",
    "\n",
    "```{exercise-start}\n",
    ":label: exercise_beam\n",
    ":nonumber: true\n",
    "```\n",
    "\n",
    "Solve this problem."
   ]
  },
  {
   "cell_type": "code",
   "execution_count": null,
   "metadata": {
    "tags": [
     "thebe-remove-input-init"
    ]
   },
   "outputs": [],
   "source": [
    "import matplotlib as plt\n",
    "import numpy as np\n",
    "sys.path.insert(1, '/matrixmethod_solution')\n",
    "import matrixmethod_solution as mm\n",
    "%config InlineBackend.figure_formats = ['svg']"
   ]
  },
  {
   "cell_type": "code",
   "execution_count": null,
   "id": "4aa75a53",
   "metadata": {
    "tags": [
     "remove-cell"
    ]
   },
   "outputs": [],
   "source": [
    "import matplotlib as plt\n",
    "import numpy as np\n",
    "import matrixmethod_solution as mm\n",
    "%config InlineBackend.figure_formats = ['svg']"
   ]
  },
  {
   "cell_type": "code",
   "execution_count": null,
   "id": "ef50c25e",
   "metadata": {
    "tags": [
     "disable-execution-cell"
    ]
   },
   "outputs": [],
   "source": [
    "import numpy as np\n",
    "import matplotlib as plt\n",
    "import matrixmethod as mm\n",
    "%config InlineBackend.figure_formats = ['svg']"
   ]
  },
  {
   "cell_type": "code",
   "execution_count": null,
   "id": "d55c19e8",
   "metadata": {},
   "outputs": [],
   "source": [
    "#YOUR_CODE_HERE"
   ]
  },
  {
   "cell_type": "markdown",
   "id": "83356ed8",
   "metadata": {},
   "source": [
    "```{exercise-end}\n",
    "```"
   ]
  }
 ],
 "metadata": {
  "language_info": {
   "name": "python"
  }
 },
 "nbformat": 4,
 "nbformat_minor": 2
}
