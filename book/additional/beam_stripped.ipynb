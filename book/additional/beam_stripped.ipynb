{
 "cells": [
  {
   "cell_type": "markdown",
   "metadata": {},
   "source": [
    "# Beam\n",
    "\n",
    "<figure>\n",
    "  <IMG SRC=\"https://raw.githubusercontent.com/ibcmrocha/public/main/beam.png\" WIDTH=300 ALIGN=\"center\">\n",
    "</figure>\n",
    "\n",
    "With:\n",
    "- $l_1 = 5.5$\n",
    "- $l_2 = 5.0$\n",
    "- $EI_1 = 5000$\n",
    "- $EI_2 = 8000$\n",
    "- $q = 6$\n",
    "- $F = 40$\n",
    "- $T = 50$\n",
    "\n",
    "Solve this problem."
   ]
  },
  {
   "cell_type": "code",
   "execution_count": null,
   "metadata": {},
   "outputs": [],
   "source": [
    "import numpy as np\n",
    "import matplotlib as plt\n",
    "import matrixmethod as mm\n",
    "%config InlineBackend.figure_formats = ['svg']"
   ]
  },
  {
   "cell_type": "code",
   "execution_count": null,
   "metadata": {},
   "outputs": [],
   "source": [
    "#YOUR CODE HERE"
   ]
  }
 ],
 "metadata": {
  "kernelspec": {
   "display_name": "base",
   "language": "python",
   "name": "python3"
  },
  "language_info": {
   "codemirror_mode": {
    "name": "ipython",
    "version": 3
   },
   "file_extension": ".py",
   "mimetype": "text/x-python",
   "name": "python",
   "nbconvert_exporter": "python",
   "pygments_lexer": "ipython3",
   "version": "3.9.18"
  }
 },
 "nbformat": 4,
 "nbformat_minor": 2
}
