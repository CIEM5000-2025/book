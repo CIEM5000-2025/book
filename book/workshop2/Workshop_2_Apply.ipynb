{
 "cells": [
  {
   "cell_type": "markdown",
   "metadata": {},
   "source": [
    "# Apply\n",
    "\n",
    "::::::{attention}\n",
    "This page shows a preview of the assignment. Please fork and clone the assignment to work on it locally from [GitHub](https://github.com/CIEM5000-2025/practice-assignments)\n",
    "\n",
    "After the workshop, the solution will be added to this preview and to the [GitHub-repository](https://github.com/CIEM5000-2025/practice-assignments)\n",
    "::::::\n",
    "\n",
    "In this notebook you will solve a 2-element frame at the end of the notebook."
   ]
  },
  {
   "cell_type": "markdown",
   "metadata": {},
   "source": [
    "Our matrix method implementation is now completely stored in a local package, consisting of three classes."
   ]
  },
  {
   "cell_type": "markdown",
   "id": "2646be41",
   "metadata": {},
   "source": [
    "```{custom_download_link} ./Workshop_2_Apply_stripped.ipynb\n",
    ":text: \".ipynb\"\n",
    ":replace_default: \"True\"\n",
    "```\n",
    "\n",
    "```{custom_download_link} ./Workshop_2_Apply.md\n",
    ":text: \".md:myst\"\n",
    ":replace_default: \"False\"\n",
    "```\n",
    "\n",
    "```{custom_download_link} https://github.com/CIEM5000-2025/practice-assignments\n",
    ":text: \"All files practice assignments\"\n",
    ":replace_default: \"False\"\n",
    "```\n",
    "\n",
    "## Two-element frame"
   ]
  },
  {
   "cell_type": "markdown",
   "metadata": {},
   "source": [
    "```{figure} https://raw.githubusercontent.com/ibcmrocha/public/main/twoelemframe.png\n",
    ":align: center\n",
    ":width: 400\n",
    "```\n",
    "\n",
    "\n",
    "With:\n",
    "- $EI = 1500$\n",
    "- $EA = 1000$\n",
    "- $q = 9$\n",
    "- $L = 5$\n",
    "- $\\bar\\varphi = 0.15$\n",
    "\n",
    "```{exercise-start}\n",
    ":label: exercise_ws_2\n",
    ":nonumber: true\n",
    "\n",
    "The final example for the workshops is the two-element frame above. Here you should make use of all the new code you implemented:\n",
    "    \n",
    "- Set up the problem and compute a solution for `u_free`. Remember to consider the prescribed horizontal displacement $\\bar{u}$ at the right end of the structure.\n",
    "- Compute and plot bending moment lines for both elements (in the local and global coordinate systems)\n",
    "- Compute reactions at both supports\n",
    "```"
   ]
  },
  {
   "cell_type": "code",
   "execution_count": null,
   "id": "dbf6c700",
   "metadata": {
    "tags": [
     "thebe-remove-input-init"
    ]
   },
   "outputs": [],
   "source": [
    "import matplotlib as plt\n",
    "import numpy as np\n",
    "sys.path.insert(1, '/matrixmethod_solution')\n",
    "import matrixmethod_solution as mm\n",
    "%config InlineBackend.figure_formats = ['svg']"
   ]
  },
  {
   "cell_type": "code",
   "execution_count": null,
   "id": "737f9d6d",
   "metadata": {
    "tags": [
     "remove-cell"
    ]
   },
   "outputs": [],
   "source": [
    "import matplotlib as plt\n",
    "import numpy as np\n",
    "import matrixmethod_solution as mm\n",
    "%config InlineBackend.figure_formats = ['svg']"
   ]
  },
  {
   "cell_type": "code",
   "execution_count": null,
   "id": "cc61cb3a",
   "metadata": {
    "tags": [
     "disable-execution-cell"
    ]
   },
   "outputs": [],
   "source": [
    "import numpy as np\n",
    "import matplotlib as plt\n",
    "import matrixmethod as mm\n",
    "%config InlineBackend.figure_formats = ['svg']"
   ]
  },
  {
   "cell_type": "code",
   "execution_count": null,
   "metadata": {},
   "outputs": [],
   "source": [
    "#YOUR CODE HERE"
   ]
  },
  {
   "cell_type": "code",
   "execution_count": null,
   "metadata": {},
   "outputs": [],
   "source": [
    "for elem in elems:\n",
    "    u_elem = con.full_disp(#YOUR CODE HERE)[#YOUR CODE HERE.global_dofs()]\n",
    "    elem.plot_displaced #YOUR CODE HERE"
   ]
  },
  {
   "cell_type": "markdown",
   "metadata": {},
   "source": [
    "```{exercise-end}\n",
    "```\n",
    "\n",
    "::::::{hint}\n",
    ":class: dropdown\n",
    "\n",
    "For the given parameter values, if your implementation is fully correct, you should get the following nodal displacements and support reactions:\n",
    "$$\n",
    "\\mathbf{u}_\\mathrm{free} = \\left[-0.09274451, -0.13310939,  0.51159348, -0.01644455\\right]\n",
    "$$\n",
    "\n",
    "$$\n",
    "\\mathbf{f}_\\mathrm{cons} = \\left[27.35024439, -63.82451092,  17.64975561, -71.17548908, -36.75489076\\right]\n",
    "$$\n",
    "\n",
    "You should also get the following moment lines for the two elements:\n",
    "\n",
    "- in local coordinate system:\n",
    "![](https://raw.githubusercontent.com/ibcmrocha/public/main/moments_local.png)\n",
    "\n",
    "- in global coordinate system:\n",
    "![](https://raw.githubusercontent.com/ibcmrocha/public/main/moments_global.png)\n",
    "\n",
    "And the following displacements:\n",
    "- in local coordinate system:\n",
    "![](https://raw.githubusercontent.com/ibcmrocha/public/main/displacements_local.png)\n",
    "\n",
    "- in global coordinate system:\n",
    "![](https://raw.githubusercontent.com/ibcmrocha/public/main/displacements_global.png)\n",
    "\n",
    "::::::"
   ]
  }
 ],
 "metadata": {
  "kernelspec": {
   "display_name": "base",
   "language": "python",
   "name": "python3"
  },
  "language_info": {
   "codemirror_mode": {
    "name": "ipython",
    "version": 3
   },
   "file_extension": ".py",
   "mimetype": "text/x-python",
   "name": "python",
   "nbconvert_exporter": "python",
   "pygments_lexer": "ipython3",
   "version": "3.9.18"
  }
 },
 "nbformat": 4,
 "nbformat_minor": 2
}
