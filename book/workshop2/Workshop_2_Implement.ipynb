{
 "cells": [
  {
   "cell_type": "markdown",
   "metadata": {},
   "source": [
    "# Implementation\n",
    "  \n",
    "::::::{attention}\n",
    "This page shows a preview of the assignment. Please fork and clone the assignment to work on it locally from [GitHub](https://github.com/CIEM5000-2025/practice-assignments)\n",
    "\n",
    "After the workshop, the solution will be added to this preview and to the [GitHub-repository](https://github.com/CIEM5000-2025/practice-assignments)\n",
    "::::::\n",
    "\n",
    "In this notebook you will continue to implement the matrix method and check it with some sanity checks."
   ]
  },
  {
   "cell_type": "markdown",
   "metadata": {},
   "source": [
    "```{custom_download_link} ./Workshop_2_Implement_stripped.ipynb\n",
    ":text: \".ipynb\"\n",
    ":replace_default: \"True\"\n",
    "```\n",
    "\n",
    "```{custom_download_link} ./Workshop_2_Implement.md\n",
    ":text: \".md:myst\"\n",
    ":replace_default: \"False\"\n",
    "```\n",
    "\n",
    "```{custom_download_link} https://github.com/CIEM5000-2025/practice-assignments\n",
    ":text: \"All files practice assignments\"\n",
    ":replace_default: \"False\"\n",
    "```\n",
    "\n",
    "\n",
    "```{exercise} 0\n",
    ":label: exercise0\n",
    ":nonumber: true\n",
    ":class: exercise\n",
    "\n",
    "Check whether your implementation of last week was correct using the provided solution\n",
    "```"
   ]
  },
  {
   "cell_type": "code",
   "execution_count": null,
   "metadata": {
    "tags": [
     "thebe-remove-input-init"
    ]
   },
   "outputs": [],
   "source": [
    "import matplotlib as plt\n",
    "import numpy as np\n",
    "sys.path.insert(1, '/matrixmethod_solution')\n",
    "import matrixmethod as mm\n",
    "%config InlineBackend.figure_formats = ['svg']"
   ]
  },
  {
   "cell_type": "code",
   "execution_count": null,
   "id": "ff41d38a",
   "metadata": {
    "tags": [
     "remove-cell"
    ]
   },
   "outputs": [],
   "source": [
    "import matplotlib as plt\n",
    "import numpy as np\n",
    "import matrixmethod_solution as mm\n",
    "%config InlineBackend.figure_formats = ['svg']"
   ]
  },
  {
   "cell_type": "code",
   "execution_count": null,
   "id": "59a4402e",
   "metadata": {
    "tags": [
     "disable-execution-cell"
    ]
   },
   "outputs": [],
   "source": [
    "import numpy as np\n",
    "import matplotlib as plt\n",
    "import matrixmethod as mm\n",
    "%config InlineBackend.figure_formats = ['svg']\n",
    "\n",
    "%load_ext autoreload\n",
    "%autoreload 2"
   ]
  },
  {
   "cell_type": "markdown",
   "metadata": {},
   "source": [
    "## 1. The Node class\n",
    "The `Node` class from last week is unchanged and complete"
   ]
  },
  {
   "cell_type": "markdown",
   "metadata": {},
   "source": [
    "## 2. The Element class\n",
    "\n",
    "The implementation is incomplete:\n",
    "- The function `add_distributed_load` should compute the equivalent load vector for a constant load $q$ and moves those loads to the nodes belonging to the element. Remember to use the `add_load` function of the `Node` class to store the equivalent loads (remember we have two nodes per element). Also keep local/global transformations in mind and store `self.q = q` for later use;\n",
    "- The function `bending_moments` receives the nodal displacements of the element in the global coordinate system (`u_global`) and uses it to compute the value of the bending moment at `num_points` equally-spaced points along the element length. Keep local/global transformations in mind and use the ODE approach in SymPy / Maple / pen and paper to compute an expression for $M$. Do the same for for $w$ in the function `full_displacement`.\n",
    "\n",
    "```{exercise} 2.1\n",
    ":label: 2_exercise2.1\n",
    ":nonumber: true\n",
    ":class: exercise\n",
    "\n",
    "Add the missing pieces to the code, before you perform the checks below.\n",
    "```"
   ]
  },
  {
   "cell_type": "markdown",
   "metadata": {},
   "source": [
    "Having made your implementations, it is now time to verify the first addition of your code with a simple sanity check. We would like to solve the following simply-supported beam:\n",
    "\n",
    "```{figure} https://raw.githubusercontent.com/ibcmrocha/public/main/ssbeam.png\n",
    ":align: center\n",
    ":width: 200\n",
    "```\n",
    "\n",
    "Choose appropriate values yourself.\n",
    "\n",
    "```{exercise-start} 2.2\n",
    ":label: 2_exercise2.2\n",
    ":nonumber: true\n",
    ":class: exercise\n",
    "```\n",
    "\n",
    "Use the code blocks below to set up this problem. After you've added the load, print the element using `print(YOUR ELEMENT)`. Do the shown values for the nodal loads correspond with what you'd expect?"
   ]
  },
  {
   "cell_type": "code",
   "execution_count": null,
   "metadata": {},
   "outputs": [],
   "source": [
    "#YOUR CODE HERE"
   ]
  },
  {
   "cell_type": "code",
   "execution_count": null,
   "metadata": {},
   "outputs": [],
   "source": [
    "print(#YOUR ELEMENT HERE"
   ]
  },
  {
   "cell_type": "markdown",
   "metadata": {},
   "source": [
    "```{exercise-end}\n",
    "```\n",
    "\n",
    "```{exercise-start} 2.3\n",
    ":label: 2_exercise2.3\n",
    ":nonumber: true\n",
    ":class: exercise\n",
    "```\n",
    "\n",
    "Now solve the nodal displacements. Once you are done, compare the rotation at the right end of the beam. Does it match a solution you already know?"
   ]
  },
  {
   "cell_type": "code",
   "execution_count": null,
   "metadata": {},
   "outputs": [],
   "source": [
    "#YOUR CODE HERE"
   ]
  },
  {
   "cell_type": "markdown",
   "metadata": {},
   "source": [
    "```{exercise-end}\n",
    "```\n",
    "\n",
    "```{exercise-start} 2.4\n",
    ":label: 2_exercise2.4\n",
    ":nonumber: true\n",
    ":class: exercise\n",
    "```\n",
    "\n",
    "Calculate the bending moment at midspan and plot the moment distribution using `plot_moment_diagram`. Do the values and shape match with what you'd expect?"
   ]
  },
  {
   "cell_type": "code",
   "execution_count": null,
   "metadata": {},
   "outputs": [],
   "source": [
    "u_elem = con.full_disp(#YOUR CODE HERE)\n",
    "#YOUR CODE HERE"
   ]
  },
  {
   "cell_type": "markdown",
   "metadata": {},
   "source": [
    "```{exercise-end}\n",
    "```\n",
    "\n",
    "```{exercise-start} 2.5\n",
    ":label: 2_exercise2.5\n",
    ":nonumber: true\n",
    ":class: exercise\n",
    "```\n",
    "\n",
    "Calculate the deflection at midspan and plot the deflected structure using `plot_displaced`. Do the values and shape match with what you'd expect?"
   ]
  },
  {
   "cell_type": "code",
   "execution_count": null,
   "metadata": {},
   "outputs": [],
   "source": [
    "#YOUR CODE HERE"
   ]
  },
  {
   "cell_type": "markdown",
   "metadata": {},
   "source": [
    "```{exercise-end}\n",
    "```\n",
    "\n",
    "## 3. The Constrainer class\n",
    "\n",
    "We're going to expand our Constrainer class, but the implementation is incomplete:\n",
    "- The constrainer class should be able to handle non-zero boundary conditions too. `constrain` should be adapted to do so + the docstring of the class itself. Furthermore, the assert statement of `fix_dof` should be removed.\n",
    "- The function `support_reactions` is incomplete. Since the constrainer is always first going to get `constrain` called, here we already have access to `self.free_dofs`. Together with `self.cons_dofs`, you should have all you need to compute reactions. Note that `f` is also passed as argument. Make sure you take into account the contribution of equivalent element loads that go directly into the supports without deforming the structure.\n",
    "\n",
    "```{exercise} 3.1\n",
    ":label: 2_exercise3.1\n",
    ":nonumber: true\n",
    ":class: exercise\n",
    "\n",
    "Add the missing pieces to the code and docstring, before you perform the checks below.\n",
    "\n",
    "```"
   ]
  },
  {
   "cell_type": "markdown",
   "metadata": {},
   "source": [
    "We're going to verify our implementation. Therefore, we're going to solve an extension bar, supported at both ends, with a load $q$.\n",
    "\n",
    "```{figure} https://raw.githubusercontent.com/ibcmrocha/public/main/sanitycheck_3.2.png\n",
    ":align: center\n",
    ":width: 200\n",
    "```\n",
    "\n",
    "Choose appropriate values yourself.\n",
    "\n",
    "\n",
    "```{exercise-start} 3.2\n",
    ":label: 2_exercise3.2\n",
    ":nonumber: true\n",
    ":class: exercise\n",
    "```\n",
    "\n",
    "Can you say on beforehand what will be the displacements? And what will be the support reactions?\n",
    "\n",
    "Use the code blocks below to set up and solve this problem and check the required quantities to make sure your implementation is correct."
   ]
  },
  {
   "cell_type": "code",
   "execution_count": null,
   "metadata": {},
   "outputs": [],
   "source": [
    "#YOUR CODE HERE"
   ]
  },
  {
   "cell_type": "markdown",
   "metadata": {},
   "source": [
    "```{exercise-end}\n",
    "```\n",
    "\n",
    "Again, we're going to verify our implementation. Therefore, we're going solve a beam, with a load $F$ and support displacement $\\bar w$ for the right support.\n",
    "\n",
    "```{figure} https://raw.githubusercontent.com/ibcmrocha/public/main/sanitycheck_3.3_new.png\n",
    ":align: center\n",
    ":width: 200\n",
    "```\n",
    "\n",
    "Choose appropriate values yourself.\n",
    "\n",
    "```{exercise-start} 3.3\n",
    ":label: 2_exercise3.3\n",
    ":nonumber: true\n",
    ":class: exercise\n",
    "```\n",
    "\n",
    "Use the code blocks below to set up and solve this problem and check the required quantities to make sure your implementation is correct."
   ]
  },
  {
   "cell_type": "code",
   "execution_count": null,
   "metadata": {},
   "outputs": [],
   "source": [
    "#YOUR CODE HERE"
   ]
  },
  {
   "cell_type": "markdown",
   "id": "a099d136",
   "metadata": {},
   "source": [
    "```{exercise-end}\n",
    "```"
   ]
  }
 ],
 "metadata": {
  "kernelspec": {
   "display_name": "base",
   "language": "python",
   "name": "python3"
  },
  "language_info": {
   "codemirror_mode": {
    "name": "ipython",
    "version": 3
   },
   "file_extension": ".py",
   "mimetype": "text/x-python",
   "name": "python",
   "nbconvert_exporter": "python",
   "pygments_lexer": "ipython3",
   "version": "3.9.18"
  }
 },
 "nbformat": 4,
 "nbformat_minor": 2
}
